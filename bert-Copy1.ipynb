{
 "cells": [
  {
   "cell_type": "markdown",
   "id": "ed70a480-3686-4522-acee-ae48079579d2",
   "metadata": {},
   "source": [
    "<h1 align=\"center\">\n",
    "  <a href=\"https://uptrain.ai\">\n",
    "    <img width=\"300\" src=\"https://user-images.githubusercontent.com/108270398/214240695-4f958b76-c993-4ddd-8de6-8668f4d0da84.png\" alt=\"uptrain\">\n",
    "  </a>\n",
    "</h1>"
   ]
  },
  {
   "cell_type": "markdown",
   "id": "c074abda-7ad0-4af1-a7b4-f5177213dae8",
   "metadata": {},
   "source": [
    "<h1 style=\"text-align: center;\">Fine-tuning a Large-Language Model</h1>"
   ]
  },
  {
   "cell_type": "markdown",
   "id": "c2f34304-dc81-4fd9-94dc-a7dfc371673a",
   "metadata": {},
   "source": [
    "### Install Required packages\n",
    "- [PyTorch](https://pytorch.org/get-started/locally/): Deep learning framework.\n",
    "- Hugging Face Transformers(https://huggingface.co/docs/transformers/installation): To use pretrained state-of-the-art models.\n",
    "- [Hugging Face Datasets](https://pypi.org/project/datasets/): Use public Hugging Face datasets\n",
    "- [IPywidgets](https://ipywidgets.readthedocs.io/en/stable/user_install.html): For interactive notebook widgets"
   ]
  },
  {
   "cell_type": "code",
   "execution_count": 1,
   "id": "f61005f8-27ae-4a7a-a190-fe5f335821cb",
   "metadata": {
    "tags": []
   },
   "outputs": [
    {
     "name": "stdout",
     "output_type": "stream",
     "text": [
      "True\n",
      "True\n"
     ]
    }
   ],
   "source": [
    "from transformers import AutoModelForMaskedLM, AutoTokenizer\n",
    "from model_constants import *\n",
    "from model_train import retrain_model\n",
    "from helper_funcs import *\n",
    "import json\n",
    "import uptrain\n",
    "import torch\n",
    "# this ensures that the current MacOS version is at least 12.3+\n",
    "print(torch.backends.mps.is_available())\n",
    "# this ensures that the current current PyTorch installation was built with MPS activated.\n",
    "print(torch.backends.mps.is_built())\n",
    "dtype = torch.float\n",
    "device = torch.device(\"mps\")"
   ]
  },
  {
   "cell_type": "code",
   "execution_count": 2,
   "id": "8d6e1263-e704-4de2-af99-507ea68125fd",
   "metadata": {
    "tags": []
   },
   "outputs": [],
   "source": [
    "tokenizer = AutoTokenizer.from_pretrained(model_checkpoint)\n",
    "model = AutoModelForMaskedLM.from_pretrained(model_checkpoint)\n",
    "testing_text = \"Nike shoes are very [MASK].\"\n",
    "original_model_outputs = test_model(model, testing_text)"
   ]
  },
  {
   "cell_type": "code",
   "execution_count": 3,
   "id": "d9edc5da-8366-4c55-93a7-4601c89c9970",
   "metadata": {
    "tags": []
   },
   "outputs": [
    {
     "name": "stdout",
     "output_type": "stream",
     "text": [
      "Deleting the folder:  uptrain_smart_data_bert\n"
     ]
    }
   ],
   "source": [
    "def nike_text_present_func(inputs, outputs, gts=None, extra_args={}):\n",
    "    is_present = []\n",
    "    for input in inputs[\"text\"]:\n",
    "        this_present = \"nike\" in input.lower()\n",
    "        is_present.append(bool(this_present))\n",
    "    return is_present\n",
    "\n",
    "uptrain_save_fold_name = \"uptrain_smart_data_bert\"\n",
    "nike_text_present = uptrain.Signal(\"Nike Text Present\", nike_text_present_func)\n",
    "\n",
    "cfg = {\n",
    "    'checks': [{\n",
    "        'type': uptrain.Anomaly.EDGE_CASE,\n",
    "        \"signal_formulae\": nike_text_present\n",
    "    }],\n",
    "\n",
    "    # Define where to save the retraining dataset\n",
    "    'retraining_folder': uptrain_save_fold_name,\n",
    "    \n",
    "    # Define when to retrain, define a large number because we\n",
    "    # are not retraining yet\n",
    "    'retrain_after': 10000000000\n",
    "}\n",
    "\n",
    "framework = uptrain.Framework(cfg)"
   ]
  },
  {
   "cell_type": "code",
   "execution_count": 23,
   "id": "abe66970-c0ce-421d-9f7a-845453615903",
   "metadata": {
    "tags": []
   },
   "outputs": [
    {
     "name": "stdout",
     "output_type": "stream",
     "text": [
      "3050  edge cases identified out of  12197  total samples\n",
      "3100  edge cases identified out of  12397  total samples\n",
      "3150  edge cases identified out of  12597  total samples\n",
      "3200  edge cases identified out of  12797  total samples\n",
      "3250  edge cases identified out of  12997  total samples\n",
      "3300  edge cases identified out of  13197  total samples\n",
      "3350  edge cases identified out of  13397  total samples\n",
      "3400  edge cases identified out of  13597  total samples\n",
      "3450  edge cases identified out of  13797  total samples\n",
      "3500  edge cases identified out of  13997  total samples\n",
      "3550  edge cases identified out of  14197  total samples\n",
      "3600  edge cases identified out of  14397  total samples\n",
      "3650  edge cases identified out of  14597  total samples\n",
      "3700  edge cases identified out of  14797  total samples\n",
      "3750  edge cases identified out of  14997  total samples\n",
      "3800  edge cases identified out of  15197  total samples\n",
      "3850  edge cases identified out of  15397  total samples\n",
      "3900  edge cases identified out of  15597  total samples\n",
      "3950  edge cases identified out of  15797  total samples\n",
      "4000  edge cases identified out of  15997  total samples\n"
     ]
    }
   ],
   "source": [
    "# raw_dataset = create_sample_dataset(\"raw_nike_reviews_data.json\")\n",
    "raw_dataset = create_sample_dataset(\"shoe_reviews_data.json\")\n",
    "\n",
    "\n",
    "with open(raw_dataset) as f:\n",
    "    all_data = json.load(f)\n",
    "\n",
    "for sample in all_data['data']:\n",
    "    inputs = {'data': {'text': [sample['text']]}}\n",
    "    framework.log(inputs = inputs, outputs = None)\n",
    "# retraining_dataset = create_dataset_from_csv(uptrain_save_fold_name + \"/1/smart_data.csv\", \"text\", \"retrain_dataset.json\")\n",
    "\n",
    "# raw_nike_reviews_dataset = create_dataset_from_csv(\"kaggle dataset/web_scraped.csv\", \"Content\", \"raw_nike_reviews_data.json\")\n",
    "\n",
    "shoe_reviews_dataset = create_dataset_from_csv(\"kaggle dataset/Shoes_Data.csv\", \"product_description\", \"shoe_reviews_data.json\")\n"
   ]
  },
  {
   "cell_type": "code",
   "execution_count": 24,
   "id": "ca8d91d9-4540-4850-ad27-69fe9468e7dc",
   "metadata": {},
   "outputs": [
    {
     "name": "stderr",
     "output_type": "stream",
     "text": [
      "Using custom data configuration default-fd5fcfc9d4747ef6\n"
     ]
    },
    {
     "name": "stdout",
     "output_type": "stream",
     "text": [
      "Downloading and preparing dataset json/default to /Users/linuz/.cache/huggingface/datasets/json/default-fd5fcfc9d4747ef6/0.0.0/0f7e3662623656454fcd2b650f34e886a7db4b9104504885bd462096cc7a9f51...\n"
     ]
    },
    {
     "data": {
      "application/vnd.jupyter.widget-view+json": {
       "model_id": "1515a996ef8a4c3fb41238db98fd6ca0",
       "version_major": 2,
       "version_minor": 0
      },
      "text/plain": [
       "Downloading data files:   0%|          | 0/1 [00:00<?, ?it/s]"
      ]
     },
     "metadata": {},
     "output_type": "display_data"
    },
    {
     "data": {
      "application/vnd.jupyter.widget-view+json": {
       "model_id": "f21a364de67641c8bc1f77f2c5625be5",
       "version_major": 2,
       "version_minor": 0
      },
      "text/plain": [
       "Extracting data files:   0%|          | 0/1 [00:00<?, ?it/s]"
      ]
     },
     "metadata": {},
     "output_type": "display_data"
    },
    {
     "data": {
      "application/vnd.jupyter.widget-view+json": {
       "model_id": "",
       "version_major": 2,
       "version_minor": 0
      },
      "text/plain": [
       "Generating train split: 0 examples [00:00, ? examples/s]"
      ]
     },
     "metadata": {},
     "output_type": "display_data"
    },
    {
     "name": "stdout",
     "output_type": "stream",
     "text": [
      "Dataset json downloaded and prepared to /Users/linuz/.cache/huggingface/datasets/json/default-fd5fcfc9d4747ef6/0.0.0/0f7e3662623656454fcd2b650f34e886a7db4b9104504885bd462096cc7a9f51. Subsequent calls will reuse this data.\n"
     ]
    },
    {
     "data": {
      "application/vnd.jupyter.widget-view+json": {
       "model_id": "fddfb51df99e49789bace7d8827e910c",
       "version_major": 2,
       "version_minor": 0
      },
      "text/plain": [
       "  0%|          | 0/1 [00:00<?, ?it/s]"
      ]
     },
     "metadata": {},
     "output_type": "display_data"
    },
    {
     "data": {
      "application/vnd.jupyter.widget-view+json": {
       "model_id": "05c02b7414fd4a7f9cf518e4703edea8",
       "version_major": 2,
       "version_minor": 0
      },
      "text/plain": [
       "  0%|          | 0/1 [00:00<?, ?ba/s]"
      ]
     },
     "metadata": {},
     "output_type": "display_data"
    },
    {
     "data": {
      "application/vnd.jupyter.widget-view+json": {
       "model_id": "d254323e1861489db9c80574276e2238",
       "version_major": 2,
       "version_minor": 0
      },
      "text/plain": [
       "  0%|          | 0/1 [00:00<?, ?ba/s]"
      ]
     },
     "metadata": {},
     "output_type": "display_data"
    },
    {
     "name": "stderr",
     "output_type": "stream",
     "text": [
      "PyTorch: setting up devices\n",
      "The default value for the training argument `--report_to` will change in v5 (from all installed integrations to none). In v5, you will need to use `--report_to all` to get the same behavior as now. You should start updating your code and make this info disappear :-).\n",
      "The following columns in the evaluation set don't have a corresponding argument in `DistilBertForMaskedLM.forward` and have been ignored: word_ids. If word_ids are not expected by `DistilBertForMaskedLM.forward`,  you can safely ignore this message.\n",
      "***** Running Evaluation *****\n",
      "  Num examples = 12\n",
      "  Batch size = 64\n"
     ]
    },
    {
     "data": {
      "text/html": [
       "\n",
       "    <div>\n",
       "      \n",
       "      <progress value='2' max='1' style='width:300px; height:20px; vertical-align: middle;'></progress>\n",
       "      [1/1 00:39]\n",
       "    </div>\n",
       "    "
      ],
      "text/plain": [
       "<IPython.core.display.HTML object>"
      ]
     },
     "metadata": {},
     "output_type": "display_data"
    },
    {
     "name": "stderr",
     "output_type": "stream",
     "text": [
      "The following columns in the training set don't have a corresponding argument in `DistilBertForMaskedLM.forward` and have been ignored: word_ids. If word_ids are not expected by `DistilBertForMaskedLM.forward`,  you can safely ignore this message.\n",
      "/Users/linuz/opt/anaconda3/envs/torch-gpu/lib/python3.8/site-packages/transformers/optimization.py:306: FutureWarning: This implementation of AdamW is deprecated and will be removed in a future version. Use the PyTorch implementation torch.optim.AdamW instead, or set `no_deprecation_warning=True` to disable this warning\n",
      "  warnings.warn(\n",
      "***** Running training *****\n",
      "  Num examples = 103\n",
      "  Num Epochs = 3\n",
      "  Instantaneous batch size per device = 64\n",
      "  Total train batch size (w. parallel, distributed & accumulation) = 64\n",
      "  Gradient Accumulation steps = 1\n",
      "  Total optimization steps = 6\n"
     ]
    },
    {
     "name": "stdout",
     "output_type": "stream",
     "text": [
      ">>>Before training, Perplexity: 10.77\n"
     ]
    },
    {
     "data": {
      "text/html": [
       "\n",
       "    <div>\n",
       "      \n",
       "      <progress value='6' max='6' style='width:300px; height:20px; vertical-align: middle;'></progress>\n",
       "      [6/6 01:37, Epoch 3/3]\n",
       "    </div>\n",
       "    <table border=\"1\" class=\"dataframe\">\n",
       "  <thead>\n",
       " <tr style=\"text-align: left;\">\n",
       "      <th>Epoch</th>\n",
       "      <th>Training Loss</th>\n",
       "      <th>Validation Loss</th>\n",
       "    </tr>\n",
       "  </thead>\n",
       "  <tbody>\n",
       "    <tr>\n",
       "      <td>1</td>\n",
       "      <td>3.158700</td>\n",
       "      <td>2.925783</td>\n",
       "    </tr>\n",
       "    <tr>\n",
       "      <td>2</td>\n",
       "      <td>2.867500</td>\n",
       "      <td>2.609482</td>\n",
       "    </tr>\n",
       "    <tr>\n",
       "      <td>3</td>\n",
       "      <td>3.139300</td>\n",
       "      <td>2.642015</td>\n",
       "    </tr>\n",
       "  </tbody>\n",
       "</table><p>"
      ],
      "text/plain": [
       "<IPython.core.display.HTML object>"
      ]
     },
     "metadata": {},
     "output_type": "display_data"
    },
    {
     "name": "stderr",
     "output_type": "stream",
     "text": [
      "The following columns in the evaluation set don't have a corresponding argument in `DistilBertForMaskedLM.forward` and have been ignored: word_ids. If word_ids are not expected by `DistilBertForMaskedLM.forward`,  you can safely ignore this message.\n",
      "***** Running Evaluation *****\n",
      "  Num examples = 12\n",
      "  Batch size = 64\n",
      "The following columns in the evaluation set don't have a corresponding argument in `DistilBertForMaskedLM.forward` and have been ignored: word_ids. If word_ids are not expected by `DistilBertForMaskedLM.forward`,  you can safely ignore this message.\n",
      "***** Running Evaluation *****\n",
      "  Num examples = 12\n",
      "  Batch size = 64\n",
      "The following columns in the evaluation set don't have a corresponding argument in `DistilBertForMaskedLM.forward` and have been ignored: word_ids. If word_ids are not expected by `DistilBertForMaskedLM.forward`,  you can safely ignore this message.\n",
      "***** Running Evaluation *****\n",
      "  Num examples = 12\n",
      "  Batch size = 64\n",
      "\n",
      "\n",
      "Training completed. Do not forget to share your model on huggingface.co/models =)\n",
      "\n",
      "\n",
      "The following columns in the evaluation set don't have a corresponding argument in `DistilBertForMaskedLM.forward` and have been ignored: word_ids. If word_ids are not expected by `DistilBertForMaskedLM.forward`,  you can safely ignore this message.\n",
      "***** Running Evaluation *****\n",
      "  Num examples = 12\n",
      "  Batch size = 64\n"
     ]
    },
    {
     "data": {
      "text/html": [
       "\n",
       "    <div>\n",
       "      \n",
       "      <progress value='1' max='1' style='width:300px; height:20px; vertical-align: middle;'></progress>\n",
       "      [1/1 : < :]\n",
       "    </div>\n",
       "    "
      ],
      "text/plain": [
       "<IPython.core.display.HTML object>"
      ]
     },
     "metadata": {},
     "output_type": "display_data"
    },
    {
     "name": "stdout",
     "output_type": "stream",
     "text": [
      ">>>After training, Perplexity: 10.52\n"
     ]
    }
   ],
   "source": [
    "retrain_model(model, shoe_reviews_dataset)\n",
    "retrained_model_outputs = test_model(model, testing_text)"
   ]
  },
  {
   "cell_type": "code",
   "execution_count": 36,
   "id": "810952b0",
   "metadata": {},
   "outputs": [
    {
     "data": {
      "text/plain": [
       "['.', ';', 'worn', '!', ':']"
      ]
     },
     "execution_count": 36,
     "metadata": {},
     "output_type": "execute_result"
    }
   ],
   "source": [
    "test_model(model, 'shoes are [MASK]')"
   ]
  },
  {
   "cell_type": "code",
   "execution_count": 10,
   "id": "4872218b",
   "metadata": {},
   "outputs": [
    {
     "data": {
      "text/plain": [
       "['popular', 'expensive', 'durable', 'common', 'comfortable']"
      ]
     },
     "execution_count": 10,
     "metadata": {},
     "output_type": "execute_result"
    }
   ],
   "source": [
    "test_model(model, testing_text)"
   ]
  },
  {
   "cell_type": "code",
   "execution_count": 11,
   "id": "8a7def55",
   "metadata": {},
   "outputs": [
    {
     "data": {
      "text/plain": [
       "['popular', 'expensive', 'durable', 'common', 'comfortable']"
      ]
     },
     "execution_count": 11,
     "metadata": {},
     "output_type": "execute_result"
    }
   ],
   "source": [
    "original_model_outputs"
   ]
  },
  {
   "cell_type": "code",
   "execution_count": null,
   "id": "7c422086",
   "metadata": {},
   "outputs": [],
   "source": []
  }
 ],
 "metadata": {
  "kernelspec": {
   "display_name": "Python 3 (ipykernel)",
   "language": "python",
   "name": "python3"
  },
  "language_info": {
   "codemirror_mode": {
    "name": "ipython",
    "version": 3
   },
   "file_extension": ".py",
   "mimetype": "text/x-python",
   "name": "python",
   "nbconvert_exporter": "python",
   "pygments_lexer": "ipython3",
   "version": "3.8.15"
  }
 },
 "nbformat": 4,
 "nbformat_minor": 5
}
